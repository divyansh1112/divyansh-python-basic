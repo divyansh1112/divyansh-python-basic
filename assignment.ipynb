{
  "nbformat": 4,
  "nbformat_minor": 0,
  "metadata": {
    "colab": {
      "provenance": []
    },
    "kernelspec": {
      "name": "python3",
      "display_name": "Python 3"
    },
    "language_info": {
      "name": "python"
    }
  },
  "cells": [
    {
      "cell_type": "code",
      "execution_count": null,
      "metadata": {
        "id": "ob0H-_9Vj-ai"
      },
      "outputs": [],
      "source": []
    },
    {
      "cell_type": "markdown",
      "source": [
        "1.Python is a versatile, high-level programming language known for its simple syntax and readability. Its popularity stems from ease of use, an extensive library ecosystem, platform independence, and strong community support."
      ],
      "metadata": {
        "id": "GmZVJMavmBu0"
      }
    },
    {
      "cell_type": "markdown",
      "source": [
        "2.  interpreter is a program that directly executes Python code line by line, translating it into machine-readable instructions. it is making debugging and development faster"
      ],
      "metadata": {
        "id": "QS8TjWdbnjnI"
      }
    },
    {
      "cell_type": "markdown",
      "source": [
        "3. pre defined keywords are a presaved variable in python and cannot be used as identifiers\n",
        "ex- boolean, string,logical"
      ],
      "metadata": {
        "id": "2lmee4ueoEMd"
      }
    },
    {
      "cell_type": "markdown",
      "source": [
        "4.  No, keywords in Python cannot be used as variable names because they are used for specific purposes in the syntax and have predefined meanings."
      ],
      "metadata": {
        "id": "UdxY2Bt9pBfo"
      }
    },
    {
      "cell_type": "markdown",
      "source": [
        "5. These objects can be modified after creation.\n",
        "For example, you can change the elements of a list in a dictionary without creating a new object."
      ],
      "metadata": {
        "id": "xK63kRCEpmHd"
      }
    },
    {
      "cell_type": "markdown",
      "source": [
        "7. Use == when you want to compare the values of objects.\n",
        "Use is when you want to compare the identity of objects."
      ],
      "metadata": {
        "id": "SQPt1w8trrGr"
      }
    },
    {
      "cell_type": "markdown",
      "source": [
        "8. Logical operators are used to combine conditional statements and perform logical operations. In Python, there are three logical operators:\n",
        "AND-Returns True if both conditions are true; otherwise, returns False\n",
        "OR-Returns True if at least one of the conditions is true; returns False only if all conditions are false\n",
        "NOT-Reverses the logical state of a condition. If a condition is True, it returns False"
      ],
      "metadata": {
        "id": "WBp61YrIsCZ9"
      }
    },
    {
      "cell_type": "markdown",
      "source": [
        "9. Type casting in Python is converting one data type to another.\n",
        "ex-int,float,string,list"
      ],
      "metadata": {
        "id": "4Hzi0NdjsiS4"
      }
    },
    {
      "cell_type": "markdown",
      "source": [
        "10. **Implicit Type Casting**-Performed by Python automatically\n",
        "-Happens when Python converts one data type to another compatible type without user intervention.\n",
        "**Explicit Type Casting**-Performed manually by the programmer.\n",
        "-Done using type conversion functions like int(), float(), str()"
      ],
      "metadata": {
        "id": "PDMQOZKuWw98"
      }
    },
    {
      "cell_type": "markdown",
      "source": [
        "11. The purpose of conditional statements in Python is to execute code based on specific conditions\n",
        "purpose-To control the flow of a program\n",
        "To implement decision-making logic\n",
        "if Statement: Executes a block of code if a condition is true\n",
        "elif Statement: Adds additional conditions to check\n",
        "else Statement: Executes a block of code if all previous conditions are false"
      ],
      "metadata": {
        "id": "Ue3MK5y_avm5"
      }
    },
    {
      "cell_type": "markdown",
      "source": [
        "12. The elif statement in Python stands for \"else if\" and allows you to check multiple conditions after an initial if condition. It ensures that only one block of code is executed, based on the first condition that evaluates to True."
      ],
      "metadata": {
        "id": "l8usg3Ddbccy"
      }
    },
    {
      "cell_type": "markdown",
      "source": [
        "13. for` Loop\n",
        "- like a list, tuple, string, or range  \n",
        "- The number of iterations is **pre-determined**  \n",
        "`while` Loop\n",
        "- **Used for executing a block of code as long as a condition is true.**  \n",
        "- The number of iterations is **not pre-determined** and depends on the condition.\n"
      ],
      "metadata": {
        "id": "fD6hrti9czHQ"
      }
    },
    {
      "cell_type": "markdown",
      "source": [
        "14. A while loop is more suitable than a for loop when the number of iterations is not known.\n",
        "Imagine you are writing a program that repeatedly asks the user for a valid password until they provide the correct one"
      ],
      "metadata": {
        "id": "Lna66OSSc3DK"
      }
    },
    {
      "cell_type": "markdown",
      "source": [
        "**Practical Questions**"
      ],
      "metadata": {
        "id": "INqJxhekePz0"
      }
    },
    {
      "cell_type": "code",
      "source": [
        "1. # Program to print \"Hello, World!\"\n",
        "print(\"Hello, World!\")\n"
      ],
      "metadata": {
        "id": "a0sar9pLedi4"
      },
      "execution_count": null,
      "outputs": []
    },
    {
      "cell_type": "code",
      "source": [
        "2. # Program to display name and age\n",
        "name = \"Your Name\"\n",
        "age = 25\n",
        "\n",
        "print(\"My name is\", name)\n",
        "print(\"I am\", age, \"years old\")\n"
      ],
      "metadata": {
        "id": "96k6OVjXem-2"
      },
      "execution_count": null,
      "outputs": []
    },
    {
      "cell_type": "code",
      "source": [
        "3. # Import the keyword library\n",
        "import keyword\n",
        "\n",
        "# Print all the Python keywords\n",
        "print(\"Python Keywords:\")\n"
      ],
      "metadata": {
        "id": "taxHSKyme2FM"
      },
      "execution_count": null,
      "outputs": []
    },
    {
      "cell_type": "code",
      "source": [
        "4. # Get input from the user\n",
        "word = input(\"Enter a word to check if it's a Python keyword: \")\n",
        "\n",
        "# Check if the word is a Python keyword\n",
        "if keyword.iskeyword(word):\n",
        "    print(f\"'{word}' is a Python keyword.\")\n",
        "else:\n",
        "    print(f\"'{word}' is NOT a Python keyword.\")\n"
      ],
      "metadata": {
        "id": "H5Kq_cL7fGEi"
      },
      "execution_count": null,
      "outputs": []
    },
    {
      "cell_type": "code",
      "source": [
        "5. #NOT STUDY IN MODULE 2"
      ],
      "metadata": {
        "id": "xL5gW-Ggf1dc"
      },
      "execution_count": null,
      "outputs": []
    },
    {
      "cell_type": "code",
      "source": [
        "6.\n",
        "# Define a mutable (list) and immutable (integer)\n",
        "my_list = [1, 2, 3]\n",
        "my_number = 5\n",
        "\n",
        "print(\"Before function call:\")\n",
        "print(\"my_list:\", my_list)\n",
        "print(\"my_number:\", my_number)\n",
        "\n",
        "# Call the function\n",
        "modify_arguments(my_list, my_number)\n",
        "\n",
        "print(\"\\nAfter function call:\")\n",
        "print(\"my_list:\", my_list)  # List is modified\n",
        "print(\"my_number:\", my_number)  # Integer is not modified\n"
      ],
      "metadata": {
        "id": "OBD5G-c6hcXD"
      },
      "execution_count": null,
      "outputs": []
    },
    {
      "cell_type": "code",
      "source": [
        "7. same question(answer 6)"
      ],
      "metadata": {
        "id": "u9TruxC_ihK6"
      },
      "execution_count": null,
      "outputs": []
    },
    {
      "cell_type": "code",
      "source": [
        "8. # Define some variables\n",
        "x = 5\n",
        "y = 10\n",
        "\n",
        "# Use of 'and' logical operator\n",
        "if x > 3 and y < 15:\n",
        "    print(\"Both conditions are True (x > 3 and y < 15)\")\n",
        "\n",
        "# Use of 'or' logical operator\n",
        "if x > 3 or y > 15:\n",
        "    print(\"At least one condition is True (x > 3 or y > 15)\")\n",
        "\n",
        "# Use of 'not' logical operator\n",
        "if not (x > 10):\n",
        "    print(\"x is not greater than 10\")\n"
      ],
      "metadata": {
        "id": "CMOAIE8Zil3N",
        "outputId": "c8e8137e-1d78-446f-b527-f3a9ef82d651",
        "colab": {
          "base_uri": "https://localhost:8080/"
        }
      },
      "execution_count": 6,
      "outputs": [
        {
          "output_type": "stream",
          "name": "stdout",
          "text": [
            "Both conditions are True (x > 3 and y < 15)\n",
            "At least one condition is True (x > 3 or y > 15)\n",
            "x is not greater than 10\n"
          ]
        }
      ]
    },
    {
      "cell_type": "code",
      "source": [
        "9. # Get user input as a string\n",
        "user_input = input(\"Enter a value: \")\n",
        "\n",
        "# Convert input to integer\n",
        "\n",
        "int_value = int(user_input)\n",
        "print(f\"Integer: {int_value}\")\n",
        "\n",
        "print(\"Input is not a valid integer.\")\n",
        "\n",
        "# Convert input to float\n",
        "float_value = float(user_input)\n",
        "print(f\"Float: {float_value}\")\n",
        "\n",
        "print(\"Input is not a valid float.\")\n",
        "\n",
        "# Convert input to boolean\n",
        "if user_input.lower() == 'true':\n",
        "    bool_value = True\n",
        "elif user_input.lower() == 'false':\n",
        "    bool_value = False\n",
        "else:\n",
        "    bool_value = bool(user_input)  # Converts to True for any non-empty string\n",
        "\n",
        "print(f\"Boolean: {bool_value}\")\n"
      ],
      "metadata": {
        "id": "adeCL9QliyfT"
      },
      "execution_count": null,
      "outputs": []
    },
    {
      "cell_type": "code",
      "source": [
        "10. # Original list with string elements\n",
        "my_list = [\"1\", \"3.5\", \"True\", \"7\"]\n",
        "\n",
        "# Convert string elements to integers\n",
        "int_list = [int(item) for item in my_list if item.isdigit()]\n",
        "print(\"List of integers:\", int_list)\n",
        "\n",
        "# Convert string elements to floats\n",
        "float_list = [float(item) for item in my_list if item.replace('.', '', 1).isdigit()]\n",
        "print(\"List of floats:\", float_list)\n",
        "\n",
        "# Convert string elements to booleans\n",
        "bool_list = [bool(item) for item in my_list]\n",
        "print(\"List of booleans:\", bool_list)\n"
      ],
      "metadata": {
        "id": "wnO_-89tjyz9"
      },
      "execution_count": null,
      "outputs": []
    },
    {
      "cell_type": "code",
      "source": [
        "11. # Get input from the user\n",
        "number = float(input(\"Enter a number: \"))\n",
        "\n",
        "# Check if the number is positive, negative, or zero\n",
        "if number > 0:\n",
        "    print(\"The number is positive.\")\n",
        "elif number < 0:\n",
        "    print(\"The number is negative.\")\n",
        "else:\n",
        "    print(\"The number is zero.\")\n"
      ],
      "metadata": {
        "id": "W_z5TuBckGdx"
      },
      "execution_count": null,
      "outputs": []
    },
    {
      "cell_type": "code",
      "source": [
        "12.# For loop to print numbers from 1 to 10\n",
        "for i in range(1, 11):\n",
        "    print(i)\n"
      ],
      "metadata": {
        "id": "UgeFkeytkJOB"
      },
      "execution_count": null,
      "outputs": []
    },
    {
      "cell_type": "code",
      "source": [
        "13. # Initialize the sum variable\n",
        "sum_even_numbers = 0\n",
        "\n",
        "# Loop through numbers from 1 to 50\n",
        "for i in range(1, 51):\n",
        "    if i % 2 == 0:  # Check if the number is even\n",
        "        sum_even_numbers += i  # Add the even number to the sum\n",
        "\n",
        "# Print the result\n",
        "print(\"Sum of all even numbers between 1 and 50:\", sum_even_numbers)\n"
      ],
      "metadata": {
        "id": "xGPgZmQnkYFk"
      },
      "execution_count": null,
      "outputs": []
    },
    {
      "cell_type": "code",
      "source": [
        "15.# Get input from the user\n",
        "number = int(input(\"Enter a number: \"))\n",
        "\n",
        "# Initialize the factorial result as 1\n",
        "factorial = 1\n",
        "\n",
        "# Check if the number is positive\n",
        "if number < 0:\n",
        "    print(\"Factorial does not exist for negative numbers\")\n",
        "else:\n",
        "    # Use a while loop to calculate the factorial\n",
        "    while number > 1:\n",
        "        factorial *= number  # Multiply the current factorial with the number\n",
        "        number -= 1  # Decrement the number\n",
        "\n",
        "    # Print the factorial result\n",
        "    print(\"Factorial is:\", factorial)\n",
        ""
      ],
      "metadata": {
        "id": "2x_l7CuVkZ9J"
      },
      "execution_count": null,
      "outputs": []
    }
  ]
}